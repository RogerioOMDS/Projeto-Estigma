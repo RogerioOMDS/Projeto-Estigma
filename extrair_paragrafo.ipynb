{
 "cells": [
  {
   "cell_type": "code",
   "execution_count": 1,
   "metadata": {},
   "outputs": [
    {
     "name": "stderr",
     "output_type": "stream",
     "text": [
      "[nltk_data] Downloading package punkt to\n",
      "[nltk_data]     C:\\Users\\Acer\\AppData\\Roaming\\nltk_data...\n",
      "[nltk_data]   Package punkt is already up-to-date!\n"
     ]
    },
    {
     "data": {
      "text/plain": [
       "True"
      ]
     },
     "execution_count": 1,
     "metadata": {},
     "output_type": "execute_result"
    }
   ],
   "source": [
    "import pandas as pd\n",
    "import pdfplumber\n",
    "import requests\n",
    "import urllib\n",
    "from bs4 import BeautifulSoup\n",
    "import nltk\n",
    "import re\n",
    "import os\n",
    "import numpy as np\n",
    "\n",
    "from nltk.tokenize import word_tokenize\n",
    "from nltk.corpus import stopwords\n",
    "nltk.download('punkt')"
   ]
  },
  {
   "cell_type": "code",
   "execution_count": 13,
   "metadata": {},
   "outputs": [],
   "source": [
    "carac_especial = ['(',')','-',',',', ',' ,','.','@',':','*','☎','●','_','n.º','º','–','nº','“','”', '%', '$','R','/','!','+','✔',\n",
    "                  'A','O','Á','à','À','____','3ª','&','➧','Nº','?','1ª','','|','e','Ao', '\\r','e,', '(e', '*.\\r', 'É', 'J.',\n",
    "                  'S/A.', 'S/A', '\\t','\\xa0','(DVD)', '(cd)']\n",
    "all_stopwords = stopwords.words('portuguese')\n",
    "char = all_stopwords\n",
    "char.extend(carac_especial)\n",
    "char.extend([f'{i}' for i in range(1000)])\n",
    "\n",
    "nomes = ['esquizofrenia', 'esquizofrenia,', 'esquizofrenia.', 'esquizofrenia, ', 'esquizofrenia. ', \n",
    "         ' esquizofrenia', 'esquizofrenia ', 'esquizofrenia.\\r', '\"esquizofrenia\"', 'esquizofrenia!', \n",
    "         'esquizofrênico','esquizofrênico,', 'esquizofrênico, ', 'esquizofrênico.', 'esquizofrênico. ',\n",
    "         ', esquizofrênico']"
   ]
  },
  {
   "cell_type": "code",
   "execution_count": 32,
   "metadata": {},
   "outputs": [],
   "source": [
    "def limpa_paragrafos(link, tamanho, especiais):\n",
    "\n",
    "    html = urllib.request.urlopen(link).read()\n",
    "    soup = BeautifulSoup(html)\n",
    "\n",
    "    for script in soup([\"script\", \"style\"]):\n",
    "        script.decompose()\n",
    "\n",
    "    r = re.compile(\".*\\r|\\d+|.*@|.*#|.\\\\t|.*\\\\xa0|.*\\\\'\")\n",
    "\n",
    "    lista = []\n",
    "    for i in soup.stripped_strings:\n",
    "        lista.append(i)\n",
    "\n",
    "    miolo = []\n",
    "    for i in lista:\n",
    "        if len(i) > tamanho:\n",
    "            miolo.append(i.replace('\\r\\n',''))\n",
    "\n",
    "    paragrafos = []\n",
    "    for i in range(len(miolo)):\n",
    "        if 'esquizo' in miolo[i]:\n",
    "            paragrafos.append(miolo[i])\n",
    "\n",
    "    for i in range(len(paragrafos)):\n",
    "        lista_palavras = paragrafos[i].lower().split(' ')\n",
    "        lista_palavras_sem_especiais = [word for word in lista_palavras if not word in especiais]\n",
    "        especiais2 = list(filter(r.match, lista_palavras_sem_especiais))\n",
    "        lista_palavras_sem_especiais2 = [word for word in lista_palavras_sem_especiais if not word in especiais2]\n",
    "        limpo = ' '.join(lista_palavras_sem_especiais2)\n",
    "        paragrafos[i] = limpo\n",
    "\n",
    "    return paragrafos   \n"
   ]
  },
  {
   "cell_type": "code",
   "execution_count": 33,
   "metadata": {},
   "outputs": [],
   "source": [
    "def unir_paragrafos(lista_links, tamanho, especiais, primeiro_1):\n",
    "    indices = []\n",
    "    y = []\n",
    "    todos_paragrafos = []\n",
    "    for indice in range(len(lista_links)):\n",
    "        paragrafos = limpa_paragrafos(lista_links[indice], tamanho, especiais)\n",
    "        todos_paragrafos.extend(paragrafos)\n",
    "        indices.append(indice)\n",
    "        \n",
    "    y.extend(np.zeros(primeiro_1 - 2))\n",
    "    y.extend(np.ones(len(todos_paragrafos) - (primeiro_1 - 2)))\n",
    "    \n",
    "    return todos_paragrafos, y, indices "
   ]
  },
  {
   "cell_type": "code",
   "execution_count": 41,
   "metadata": {},
   "outputs": [],
   "source": [
    "def salva_paragrafos(lista_links, tamanho, especiais):\n",
    "    for i in range(len(lista_links)):\n",
    "        paragrafos = limpa_paragrafos(lista_links[i], tamanho, especiais)\n",
    "        \n",
    "        os.makedirs(f'data_paragrafo/pasta{i+2}', exist_ok=True)\n",
    "        for j in range(len(paragrafos)): \n",
    "            text_file = open(f'data_paragrafo/pasta{i+2}/paragrafo{j}.txt', 'wt')\n",
    "            text_file.write(paragrafos[j])\n",
    "            text_file.close()\n",
    "        "
   ]
  },
  {
   "cell_type": "code",
   "execution_count": 35,
   "metadata": {},
   "outputs": [],
   "source": [
    "def gerador_database(lista_links, tamanho, especiais, primeiro_1):\n",
    "    for i in range(len(lista_links)):\n",
    "        \n",
    "        os.makedirs(f'pasta{i+2}')\n",
    "        salva_paragrafos(lista_links, tamanho, especiais, primeiro_1, f\"pasta{i+2}\")"
   ]
  },
  {
   "cell_type": "code",
   "execution_count": 6,
   "metadata": {},
   "outputs": [],
   "source": [
    "# link = 'https://www1.folha.uol.com.br/folha/ciencia/ult306u2066.shtml?origin=folha'\n",
    "# link = 'https://www1.folha.uol.com.br/folha/ciencia/ult306u2071.shtml?origin=folha'\n",
    "link ='https://www1.folha.uol.com.br/fsp/ciencia/fe1801200107.htm'\n",
    "# link= 'https://www1.folha.uol.com.br/fsp/opiniao/fz0111200111.htm'\n",
    "\n",
    "tamanho = 70\n",
    "especiais = char"
   ]
  },
  {
   "cell_type": "code",
   "execution_count": 7,
   "metadata": {},
   "outputs": [
    {
     "data": {
      "text/plain": [
       "['folha s.paulo cérebro: pesquisa pode auxiliar tratamento esquizofrenia despersonalização',\n",
       " 'pesquisa publicada hoje revista \"nature\". segundo coordenador, julian paul keenan, escola médica harvard, pode ajudar entender melhor tratar problemas esquizofrenia assomatopagnosia, síndrome paciente consegue identificar extremidades próprio corpo.',\n",
       " 'segundo pesquisador, estudo mostra pode ser possível aumentar autopercepção paciente sofra esquizofrenia despersonalização mudando maneira lado direito cérebro estimulado.']"
      ]
     },
     "execution_count": 7,
     "metadata": {},
     "output_type": "execute_result"
    }
   ],
   "source": [
    "paragrafos = limpa_paragrafos(link, tamanho, especiais)\n",
    "paragrafos"
   ]
  },
  {
   "cell_type": "code",
   "execution_count": 36,
   "metadata": {},
   "outputs": [],
   "source": [
    "lista_links = [\n",
    "    \"https://www1.folha.uol.com.br/fsp/opiniao/fz1212200110.htm\",\n",
    "    \"https://www1.folha.uol.com.br/folha/equilibrio/noticias/ult263u691.shtml\",\n",
    "]"
   ]
  },
  {
   "cell_type": "code",
   "execution_count": 10,
   "metadata": {},
   "outputs": [
    {
     "data": {
      "text/plain": [
       "['estima-se cada pessoas deve apresentar transtorno mental longo vida cerca milhões brasileiros estão, neste momento, sofrendo causa transtorno mental. tema alcançado maior importância últimas décadas, particularmente causa alta prevalência determinados transtornos mentais, alcoolismo, depressão quadros fóbico-ansiosos; gravidade outros, esquizofrenia, transtorno bipolar quadros demenciais; sobrecarga transtornos mentais representam família sociedade; desrespeito direitos fundamentais portadores desses transtornos; discriminação constantemente submetidos.',\n",
       " 'folha online equilíbrio unifesp cria site disseminar informações sobre esquizofrenia',\n",
       " 'familiares portadores esquizofrenia poderão trocar disseminar informações sobre doença meio site criado programa esquizofrenia departamento psiquiatria unifesp (universidade federal paulo).']"
      ]
     },
     "execution_count": 10,
     "metadata": {},
     "output_type": "execute_result"
    }
   ],
   "source": [
    "todos, y = unir_paragrafos(lista_links, tamanho, especiais, 3)\n",
    "todos"
   ]
  },
  {
   "cell_type": "code",
   "execution_count": 11,
   "metadata": {},
   "outputs": [
    {
     "data": {
      "text/plain": [
       "[0.0, 1.0, 1.0]"
      ]
     },
     "execution_count": 11,
     "metadata": {},
     "output_type": "execute_result"
    }
   ],
   "source": [
    "y"
   ]
  },
  {
   "cell_type": "code",
   "execution_count": 25,
   "metadata": {},
   "outputs": [],
   "source": [
    "gerador_database(lista_links, tamanho, especiais, 3)"
   ]
  },
  {
   "cell_type": "code",
   "execution_count": 26,
   "metadata": {},
   "outputs": [
    {
     "data": {
      "text/plain": [
       "['estima-se cada pessoas deve apresentar transtorno mental longo vida cerca milhões brasileiros estão, neste momento, sofrendo causa transtorno mental. tema alcançado maior importância últimas décadas, particularmente causa alta prevalência determinados transtornos mentais, alcoolismo, depressão quadros fóbico-ansiosos; gravidade outros, esquizofrenia, transtorno bipolar quadros demenciais; sobrecarga transtornos mentais representam família sociedade; desrespeito direitos fundamentais portadores desses transtornos; discriminação constantemente submetidos.']"
      ]
     },
     "execution_count": 26,
     "metadata": {},
     "output_type": "execute_result"
    }
   ],
   "source": [
    "paragrafa = limpa_paragrafos(lista_links[0], tamanho, especiais)\n",
    "paragrafa"
   ]
  },
  {
   "cell_type": "code",
   "execution_count": 40,
   "metadata": {},
   "outputs": [],
   "source": [
    "salva_paragrafos(lista_links, tamanho, especiais)"
   ]
  },
  {
   "cell_type": "code",
   "execution_count": 42,
   "metadata": {},
   "outputs": [],
   "source": [
    "lista_links2 = [\n",
    "    \"https://www1.folha.uol.com.br/fsp/ilustrad/fq0401200121.htm\",\n",
    "\"https://www1.folha.uol.com.br/folha/mundo/ult94u16986.shtml?origin=folha\",\n",
    "\"https://www1.folha.uol.com.br/fsp/ilustrad/fq1001200106.htm\",\n",
    "\"https://www1.folha.uol.com.br/folha/ciencia/ult306u2066.shtml?origin=folha\",\n",
    "\"https://www1.folha.uol.com.br/folha/ciencia/ult306u2071.shtml?origin=folha\",\n",
    "\"https://www1.folha.uol.com.br/folha/ilustrada/ult90u9192.shtml?origin=folha\",\n",
    "\"https://www1.folha.uol.com.br/folha/ciencia/ult306u2087.shtml?origin=folha\",\n",
    "\"https://www1.folha.uol.com.br/fsp/ciencia/fe1801200107.htm\",\n",
    "\"https://www1.folha.uol.com.br/folha/ciencia/ult306u2418.shtml?origin=folha\",\n",
    "\"https://www1.folha.uol.com.br/fsp/equilibrio/eq0802200113.htm\",\n",
    "\"https://www1.folha.uol.com.br/folha/ciencia/ult306u2546.shtml?origin=folha\",\n",
    "\"https://www1.folha.uol.com.br/folha/ilustrada/ult90u10685.shtml?origin=folha\",\n",
    "\"https://www1.folha.uol.com.br/fsp/folhatee/fm1902200116.htm\",\n",
    "\"https://www1.folha.uol.com.br/fsp/folhatee/fm1902200117.htm\",\n",
    "\"https://www1.folha.uol.com.br/folha/ciencia/ult306u2709.shtml?origin=folha\",\n",
    "\"https://www1.folha.uol.com.br/fsp/ciencia/fe1403200101.htm\",\n",
    "\"https://www1.folha.uol.com.br/folha/ciencia/ult306u3019.shtml?origin=folha\",\n",
    "\"https://www1.folha.uol.com.br/fsp/ciencia/fe2103200105.htm\",\n",
    "\"https://www1.folha.uol.com.br/fsp/mais/fs2503200110.htm\",\n",
    "\"http://www1.folha.uol.com.br/fsp/ilustrad/fq2903200109.htm\",\n",
    "\"http://www1.folha.uol.com.br/fsp/ilustrad/fq0704200102.htm\",\n",
    "\"http://www1.folha.uol.com.br/fsp/mais/fs0804200111.htm\",\n",
    "\"http://www1.folha.uol.com.br/folha/ciencia/ult306u3264.shtml\",\n",
    "\"http://www1.folha.uol.com.br/fsp/ciencia/fe1104200101.htm\",\n",
    "\"http://www1.folha.uol.com.br/folha/ciencia/ult306u3428.shtml\",\n",
    "\"https://www1.folha.uol.com.br/fsp/mundo/ft1105200113.htm\",\n",
    "\"https://www1.folha.uol.com.br/fsp/ciencia/fe1305200108.htm\",\n",
    "\"https://www1.folha.uol.com.br/fsp/ciencia/fe1305200104.htm\",\n",
    "\"https://www1.folha.uol.com.br/fsp/mundo/ft1705200108.htm\",\n",
    "\"https://www1.folha.uol.com.br/folha/reuters/ult112u2519.shtml\",\n",
    "\"https://www1.folha.uol.com.br/fsp/equilibrio/eq0507200113.htm\",\n",
    "\"https://www1.folha.uol.com.br/folha/equilibrio/noticias/ult263u194.shtml\",\n",
    "\"https://www1.folha.uol.com.br/fsp/equilibrio/eq1207200115.htm\",\n",
    "\"https://www1.folha.uol.com.br/folha/reuters/ult112u3660.shtml\",\n",
    "\"https://www1.folha.uol.com.br/fsp/equilibrio/eq2607200103.htm\",\n",
    "\"https://www1.folha.uol.com.br/folha/equilibrio/noticias/ult263u240.shtml\",\n",
    "\"https://www1.folha.uol.com.br/folha/reuters/ult112u4288.shtml\",\n",
    "\"https://www1.folha.uol.com.br/fsp/cotidian/ff1208200128.htm\",\n",
    "\"https://www1.folha.uol.com.br/fsp/cotidian/ff1208200127.htm\",\n",
    "\"https://www1.folha.uol.com.br/fsp/cotidian/ff1208200126.htm\",\n",
    "\"https://www1.folha.uol.com.br/folha/equilibrio/noticias/ult263u300.shtml\",\n",
    "\"https://www1.folha.uol.com.br/folha/equilibrio/noticias/ult263u302.shtml\",\n",
    "\"https://www1.folha.uol.com.br/folha/ciencia/ult306u4592.shtml\",\n",
    "\"https://www1.folha.uol.com.br/folha/reuters/ult112u4627.shtml\",\n",
    "\"https://www1.folha.uol.com.br/fsp/ciencia/fe1508200104.htm\",\n",
    "\"https://www1.folha.uol.com.br/folha/ciencia/ult306u4618.shtml\",\n",
    "\"https://www1.folha.uol.com.br/folha/ciencia/ult306u4930.shtml\",\n",
    "\"https://www1.folha.uol.com.br/fsp/equilibrio/eq1810200106.htm\",\n",
    "\"https://www1.folha.uol.com.br/folha/bbc/ult272u6836.shtml\",\n",
    "\"https://www1.folha.uol.com.br/fsp/ciencia/fe0511200101.htm\",\n",
    "\"https://www1.folha.uol.com.br/fsp/ilustrad/fq0711200113.htm\",\n",
    "\"https://www1.folha.uol.com.br/folha/ciencia/ult306u5294.shtml\",\n",
    "\"https://www1.folha.uol.com.br/fsp/ilustrad/fq1711200121.htm\",\n",
    "\"https://www1.folha.uol.com.br/folha/ilustrada/ult90u19406.shtml\",\n",
    "\"https://www1.folha.uol.com.br/folha/mundo/ult94u34454.shtml\",\n",
    "\"https://www1.folha.uol.com.br/fsp/ciencia/fe1012200101.htm\",\n",
    "\"https://www1.folha.uol.com.br/fsp/opiniao/fz1212200110.htm\",\n",
    "\"https://www1.folha.uol.com.br/folha/equilibrio/noticias/ult263u691.shtml\",\n",
    "\"https://www1.folha.uol.com.br/fsp/cotidian/ff3012200118.htm\",\n",
    "\"https://www1.folha.uol.com.br/folha/reuters/ult112u10188.shtml\",\n",
    "\"https://www1.folha.uol.com.br/folha/reuters/ult112u10191.shtml\",\n",
    "\"https://www1.folha.uol.com.br/fsp/ilustrad/fq1105200123.htm\",\n",
    "\"http://www1.folha.uol.com.br/fsp/brasil/fc0204200112.htm\",\n",
    "\"https://www1.folha.uol.com.br/fsp/ilustrad/fq3105200111.htm\",\n",
    "\"https://www1.folha.uol.com.br/fsp/folhatee/fm0207200104.htm\",\n",
    "\"https://www1.folha.uol.com.br/fsp/ilustrad/fq0207200113.htm\",\n",
    "\"https://www1.folha.uol.com.br/folha/cotidiano/ult95u33066.shtml\",\n",
    "\"https://www1.folha.uol.com.br/fsp/ilustrad/fq0408200119.htm\",\n",
    "\"https://www1.folha.uol.com.br/fsp/ilustrad/fq1708200129.htm\",\n",
    "\"https://www1.folha.uol.com.br/fsp/acontece/ac0909200103.htm\",\n",
    "\"https://www1.folha.uol.com.br/fsp/mais/fs0909200117.htm\",\n",
    "\"https://www1.folha.uol.com.br/fsp/opiniao/fz2109200109.htm\",\n",
    "\"https://www1.folha.uol.com.br/fsp/opiniao/fz0110200110.htm\",\n",
    "\"https://www1.folha.uol.com.br/fsp/opiniao/fz3010200111.htm\",\n",
    "\"https://www1.folha.uol.com.br/fsp/opiniao/fz0111200111.htm\",\n",
    "\"https://www1.folha.uol.com.br/fsp/mais/fs0411200112.htm\",\n",
    "\"https://www1.folha.uol.com.br/fsp/ilustrad/fq0203200103.htm\",\n",
    "\"https://www1.folha.uol.com.br/fsp/ombudsma/om1803200101.htm\",\n",
    "\"https://www1.folha.uol.com.br/fsp/opiniao/fz1501200210.htm\",\n",
    "\"https://www1.folha.uol.com.br/fsp/mundo/ft0401200215.htm\",\n",
    "\"https://www1.folha.uol.com.br/fsp/ombudsma/om1702200202.htm\",\n",
    "\"https://www1.folha.uol.com.br/fsp/cotidian/ff1702200217.htm\",\n",
    "\"https://www1.folha.uol.com.br/fsp/ilustrad/fq2702200213.htm\",\n",
    "\"http://www1.folha.uol.com.br/fsp/ilustrad/fq3003200203.htm\",\n",
    "\"http://www1.folha.uol.com.br/fsp/cotidian/ff0904200204.htm\",\n",
    "\"http://www1.folha.uol.com.br/fsp/opiniao/fz2504200210.htm\",\n",
    "\"http://www1.folha.uol.com.br/fsp/ilustrad/fq0405200213.htm\",\n",
    "\"http://www1.folha.uol.com.br/fsp/opiniao/fz0806200201.htm\",\n",
    "\"http://www1.folha.uol.com.br/folha/pensata/ult510u63.shtml\",\n",
    "\"http://www1.folha.uol.com.br/fsp/opiniao/fz2406200211.htm\",\n",
    "\"http://www1.folha.uol.com.br/fsp/ilustrad/fq1907200228.htm\",\n",
    "\"http://www1.folha.uol.com.br/fsp/opiniao/fz2807200201.htm\",\n",
    "\"http://www1.folha.uol.com.br/fsp/mais/fs1808200210.htm\",\n",
    "\"http://www1.folha.uol.com.br/fsp/dinheiro/fi1109200207.htm\",\n",
    "\"http://www1.folha.uol.com.br/fsp/opiniao/fz0604200304.htm\",\n",
    "\"http://www1.folha.uol.com.br/fsp/ilustrad/fq0504200319.htm\",\n",
    "\"http://www1.folha.uol.com.br/fsp/opiniao/fz1304200310.htm\",\n",
    "\"http://www1.folha.uol.com.br/fsp/ilustrad/fq2512200211.htm\",\n",
    "\"http://www1.folha.uol.com.br/fsp/brasil/fc0901200313.htm\",\n",
    "\"http://www1.folha.uol.com.br/fsp/opiniao/fz0901200304.htm\",\n",
    "\"http://www1.folha.uol.com.br/fsp/brasil/fc2601200330.htm\",\n",
    "\"http://www1.folha.uol.com.br/fsp/opiniao/fz0604200304.htm\",\n",
    "\"http://www1.folha.uol.com.br/fsp/ilustrad/fq0504200319.htm\",\n",
    "\"http://www1.folha.uol.com.br/fsp/opiniao/fz1304200310.htm\",\n",
    "\"http://www1.folha.uol.com.br/fsp/ilustrad/fq2204200309.htm\",\n",
    "\"http://www1.folha.uol.com.br/fsp/opiniao/fz1909200207.htm\",\n",
    "\"http://www1.folha.uol.com.br/folha/educacao/ult305u10765.shtml\",\n",
    "\"http://www1.folha.uol.com.br/fsp/folhatee/fm2810200209.htm\",\n",
    "\"http://www1.folha.uol.com.br/fsp/ilustrad/fq2512200211.htm\",\n",
    "\"http://www1.folha.uol.com.br/fsp/brasil/fc0901200313.htm\",\n",
    "\"http://www1.folha.uol.com.br/fsp/opiniao/fz0901200304.htm\",\n",
    "\"http://www1.folha.uol.com.br/fsp/brasil/fc2601200330.htm\",\n",
    "\"http://www1.folha.uol.com.br/fsp/opiniao/fz0604200304.htm\",\n",
    "\"http://www1.folha.uol.com.br/fsp/ilustrad/fq0504200319.htm\",\n",
    "\"http://www1.folha.uol.com.br/fsp/opiniao/fz1304200310.htm\",\n",
    "\"http://www1.folha.uol.com.br/fsp/ilustrad/fq2204200309.htm\",\n",
    "\"https://www1.folha.uol.com.br/fsp/esporte/fk2005200314.htm\",\n",
    "\"https://www1.folha.uol.com.br/fsp/mais/fs0106200305.htm\",\n",
    "\"http://www1.folha.uol.com.br/fsp/mais/fs0106200311.htm\",\n",
    "\"https://www1.folha.uol.com.br/fsp/equilibrio/eq0506200312.htm\",\n",
    "\"https://www1.folha.uol.com.br/folha/ilustrada/ult90u33864.shtml\",\n",
    "\"https://www1.folha.uol.com.br/fsp/opiniao/fz1607200304.htm\",\n",
    "\"https://www1.folha.uol.com.br/fsp/mais/fs2007200310.htm\",\n",
    "\"https://www1.folha.uol.com.br/folha/dinheiro/ult91u70666.shtml\",\n",
    "\"https://www1.folha.uol.com.br/folha/brasil/ult96u52200.shtml\",\n",
    "\"https://www1.folha.uol.com.br/fsp/opiniao/fz0508200309.htm\",\n",
    "\"https://www1.folha.uol.com.br/fsp/brasil/fc1808200317.htm\",\n",
    "\"https://www1.folha.uol.com.br/fsp/ciencia/fe3108200304.htm\"\n",
    "]"
   ]
  },
  {
   "cell_type": "code",
   "execution_count": 43,
   "metadata": {},
   "outputs": [],
   "source": [
    "salva_paragrafos(lista_links2, tamanho, especiais)"
   ]
  },
  {
   "cell_type": "code",
   "execution_count": null,
   "metadata": {},
   "outputs": [],
   "source": []
  }
 ],
 "metadata": {
  "kernelspec": {
   "display_name": "Python 3",
   "language": "python",
   "name": "python3"
  },
  "language_info": {
   "codemirror_mode": {
    "name": "ipython",
    "version": 3
   },
   "file_extension": ".py",
   "mimetype": "text/x-python",
   "name": "python",
   "nbconvert_exporter": "python",
   "pygments_lexer": "ipython3",
   "version": "3.7.10"
  }
 },
 "nbformat": 4,
 "nbformat_minor": 4
}
